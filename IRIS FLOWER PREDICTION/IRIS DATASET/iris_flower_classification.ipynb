{
 "cells": [
  {
   "cell_type": "markdown",
   "id": "0c380e63",
   "metadata": {},
   "source": [
    "# Iris Flower Classification\n",
    "\n",
    "This notebook demonstrates how to classify iris flowers into three species (setosa, versicolor, virginica) using their sepal and petal measurements. The workflow includes:\n",
    "- Data loading and exploration\n",
    "- Data visualization\n",
    "- Data preprocessing\n",
    "- Model training (Random Forest)\n",
    "- Model evaluation (accuracy, classification report, confusion matrix)\n",
    "\n",
    "The Iris dataset is a classic dataset for introductory machine learning and data visualization tasks."
   ]
  },
  {
   "cell_type": "code",
   "execution_count": null,
   "id": "f934d22f",
   "metadata": {},
   "outputs": [],
   "source": [
    "import pandas as pd\n",
    "import matplotlib.pyplot as plt\n",
    "import seaborn as sns\n",
    "from sklearn.model_selection import train_test_split\n",
    "from sklearn.preprocessing import LabelEncoder\n",
    "from sklearn.ensemble import RandomForestClassifier\n",
    "from sklearn.metrics import accuracy_score, classification_report, confusion_matrix"
   ]
  },
  {
   "cell_type": "code",
   "execution_count": null,
   "id": "f80e5d94",
   "metadata": {},
   "outputs": [],
   "source": [
    "# Load the dataset\n",
    "iris = pd.read_csv('IRIS.csv')\n",
    "\n",
    "# Data overview\n",
    "print(\"First 5 rows of the dataset:\")\n",
    "display(iris.head())\n",
    "print(\"\\nDataset info:\")\n",
    "display(iris.info())\n",
    "print(\"\\nClass distribution:\")\n",
    "display(iris['species'].value_counts())"
   ]
  },
  {
   "cell_type": "code",
   "execution_count": null,
   "id": "798a0ee0",
   "metadata": {},
   "outputs": [],
   "source": [
    "# --- Visualizations ---\n",
    "plt.figure(figsize=(8, 6))\n",
    "sns.countplot(x='species', data=iris)\n",
    "plt.title('Count of Each Iris Species')\n",
    "plt.xlabel('Species')\n",
    "plt.ylabel('Count')\n",
    "plt.show()\n",
    "\n",
    "# Pairplot for all features colored by species\n",
    "sns.pairplot(iris, hue='species', diag_kind='hist')\n",
    "plt.suptitle('Pairplot of Features by Species', y=1.02)\n",
    "plt.show()\n",
    "\n",
    "# Boxplot for each feature by species\n",
    "features = ['sepal_length', 'sepal_width', 'petal_length', 'petal_width']\n",
    "plt.figure(figsize=(12, 8))\n",
    "for i, feature in enumerate(features, 1):\n",
    "    plt.subplot(2, 2, i)\n",
    "    sns.boxplot(x='species', y=feature, data=iris)\n",
    "    plt.title(f'{feature.capitalize()} by Species')\n",
    "plt.tight_layout()\n",
    "plt.show()\n",
    "\n",
    "# Correlation heatmap\n",
    "plt.figure(figsize=(8, 6))\n",
    "sns.heatmap(iris[features].corr(), annot=True, cmap='coolwarm', fmt='.2f')\n",
    "plt.title('Feature Correlation Heatmap')\n",
    "plt.show()"
   ]
  },
  {
   "cell_type": "code",
   "execution_count": null,
   "id": "9467ffca",
   "metadata": {},
   "outputs": [],
   "source": [
    "# --- Preprocess the Data ---\n",
    "X = iris.drop('species', axis=1)\n",
    "y = iris['species']\n",
    "\n",
    "le = LabelEncoder()\n",
    "y_encoded = le.fit_transform(y)"
   ]
  },
  {
   "cell_type": "code",
   "execution_count": null,
   "id": "98c340ed",
   "metadata": {},
   "outputs": [],
   "source": [
    "# --- Split the Dataset ---\n",
    "X_train, X_test, y_train, y_test = train_test_split(X, y_encoded, test_size=0.2, random_state=42)"
   ]
  },
  {
   "cell_type": "code",
   "execution_count": null,
   "id": "3f8ac7ff",
   "metadata": {},
   "outputs": [],
   "source": [
    "# --- Train Random Forest Classifier ---\n",
    "clf = RandomForestClassifier(random_state=42)\n",
    "clf.fit(X_train, y_train)"
   ]
  },
  {
   "cell_type": "code",
   "execution_count": null,
   "id": "807aad0a",
   "metadata": {},
   "outputs": [],
   "source": [
    "# --- Evaluate the Model ---\n",
    "y_pred = clf.predict(X_test)\n",
    "accuracy = accuracy_score(y_test, y_pred)\n",
    "report = classification_report(y_test, y_pred, target_names=le.classes_)\n",
    "print(f\"Accuracy: {accuracy:.2f}\")\n",
    "print(\"\\nClassification Report:\\n\", report)"
   ]
  },
  {
   "cell_type": "code",
   "execution_count": null,
   "id": "d5831808",
   "metadata": {},
   "outputs": [],
   "source": [
    "# --- Visualize Confusion Matrix ---\n",
    "cm = confusion_matrix(y_test, y_pred)\n",
    "plt.figure(figsize=(6, 5))\n",
    "sns.heatmap(cm, annot=True, fmt='d', cmap='Blues', xticklabels=le.classes_, yticklabels=le.classes_)\n",
    "plt.xlabel('Predicted')\n",
    "plt.ylabel('Actual')\n",
    "plt.title('Confusion Matrix')\n",
    "plt.show()"
   ]
  },
  {
   "cell_type": "markdown",
   "id": "50972e0f",
   "metadata": {},
   "source": [
    "## Model Results\n",
    "The model's accuracy and classification report are printed above. The confusion matrix provides a visual summary of prediction performance for each class."
   ]
  }
 ],
 "metadata": {
  "language_info": {
   "name": "python"
  }
 },
 "nbformat": 4,
 "nbformat_minor": 5
}
