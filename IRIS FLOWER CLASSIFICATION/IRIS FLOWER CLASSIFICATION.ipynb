{
 "cells": [
  {
   "cell_type": "markdown",
   "id": "c1bd81da",
   "metadata": {},
   "source": [
    "# Iris Flower Classification\n",
    "\n",
    "This project demonstrates how to classify iris flowers into three species (setosa, versicolor, virginica) using machine learning in Python. The workflow includes data loading, exploration, visualization, preprocessing, model training, evaluation, and prediction. The dataset contains measurements for sepal length, sepal width, petal length, and petal width for each flower, along with its species label."
   ]
  },
  {
   "cell_type": "markdown",
   "id": "c87eb0b9",
   "metadata": {},
   "source": [
    "## Sample Dataset (CSV)\n",
    "Below is a sample of the Iris dataset in CSV format:\n",
    "\n",
    "```\n",
    "sepal_length,sepal_width,petal_length,petal_width,species\n",
    "5.1,3.5,1.4,0.2,Iris-setosa\n",
    "7.0,3.2,4.7,1.4,Iris-versicolor\n",
    "6.3,3.3,6.0,2.5,Iris-virginica\n",
    "4.9,3.0,1.4,0.2,Iris-setosa\n",
    "6.7,3.1,4.4,1.4,Iris-versicolor\n",
    "5.8,2.7,5.1,1.9,Iris-virginica\n",
    "```"
   ]
  },
  {
   "cell_type": "markdown",
   "id": "ed1bba13",
   "metadata": {},
   "source": [
    "## README File\n",
    "\n",
    "**Project:** Iris Flower Classification\n",
    "\n",
    "This notebook demonstrates how to classify iris flowers into three species using a Random Forest classifier. The workflow includes:\n",
    "\n",
    "1. Project description and dataset sample\n",
    "2. Importing required libraries\n",
    "3. Loading and exploring the dataset\n",
    "4. Visualizing feature relationships\n",
    "5. Preprocessing (encoding, scaling)\n",
    "6. Splitting data into train/test sets\n",
    "7. Model training and evaluation\n",
    "8. Confusion matrix visualization\n",
    "9. Predicting on new data\n",
    "\n",
    "**Requirements:**\n",
    "- Python 3.x\n",
    "- pandas, numpy, matplotlib, seaborn, scikit-learn\n",
    "\n",
    "**Usage:**\n",
    "- Place `IRIS.csv` in the project directory.\n",
    "- Run the notebook cells in order to reproduce the workflow and results."
   ]
  },
  {
   "cell_type": "markdown",
   "id": "c054fe8a",
   "metadata": {},
   "source": [
    "## 1. Import Required Libraries\n",
    "Import pandas, numpy, matplotlib, seaborn, and scikit-learn modules needed for data analysis and modeling."
   ]
  },
  {
   "cell_type": "code",
   "execution_count": null,
   "id": "9291066f",
   "metadata": {},
   "outputs": [],
   "source": [
    "import pandas as pd\n",
    "import numpy as np\n",
    "import matplotlib.pyplot as plt\n",
    "import seaborn as sns\n",
    "from sklearn.model_selection import train_test_split\n",
    "from sklearn.preprocessing import LabelEncoder, StandardScaler\n",
    "from sklearn.ensemble import RandomForestClassifier\n",
    "from sklearn.metrics import classification_report, confusion_matrix, accuracy_score"
   ]
  },
  {
   "cell_type": "markdown",
   "id": "06afbe9d",
   "metadata": {},
   "source": [
    "## 2. Load the Dataset\n",
    "Load the Iris dataset from a CSV file into a pandas DataFrame."
   ]
  },
  {
   "cell_type": "code",
   "execution_count": null,
   "id": "6dd14e08",
   "metadata": {},
   "outputs": [],
   "source": [
    "df = pd.read_csv('IRIS.csv')\n",
    "df.head()"
   ]
  },
  {
   "cell_type": "markdown",
   "id": "26d13231",
   "metadata": {},
   "source": [
    "## 3. Explore the Data\n",
    "Display the first few rows, dataset info, descriptive statistics, and value counts for the species column."
   ]
  },
  {
   "cell_type": "code",
   "execution_count": null,
   "id": "a6ebf064",
   "metadata": {},
   "outputs": [],
   "source": [
    "print(df.head())\n",
    "print(df.info())\n",
    "print(df.describe())\n",
    "print(df['species'].value_counts())"
   ]
  }
 ],
 "metadata": {
  "language_info": {
   "name": "python"
  }
 },
 "nbformat": 4,
 "nbformat_minor": 5
}
