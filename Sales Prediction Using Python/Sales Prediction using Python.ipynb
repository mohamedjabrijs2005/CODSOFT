{
 "cells": [
  {
   "cell_type": "markdown",
   "id": "7a0efbeb",
   "metadata": {},
   "source": [
    "# Sales Prediction using Python\n",
    "\n",
    "This notebook demonstrates how to use Python and machine learning to predict product sales based on advertising spend across TV, Radio, and Newspaper channels. The workflow includes data loading, exploration, visualization, model training, evaluation, and interpretation."
   ]
  },
  {
   "cell_type": "markdown",
   "id": "80b4bd23",
   "metadata": {},
   "source": [
    "## 1. Import Required Libraries\n",
    "Import pandas, numpy, matplotlib, seaborn, and scikit-learn modules required for data analysis and modeling."
   ]
  },
  {
   "cell_type": "code",
   "execution_count": null,
   "id": "8e59ab17",
   "metadata": {},
   "outputs": [],
   "source": [
    "import pandas as pd\n",
    "import numpy as np\n",
    "import matplotlib.pyplot as plt\n",
    "import seaborn as sns\n",
    "from sklearn.model_selection import train_test_split\n",
    "from sklearn.linear_model import LinearRegression\n",
    "from sklearn.metrics import mean_squared_error, r2_score"
   ]
  },
  {
   "cell_type": "markdown",
   "id": "0b90f172",
   "metadata": {},
   "source": [
    "## 2. Load the Dataset\n",
    "Load the 'advertising.csv' dataset into a pandas DataFrame and display the first few rows."
   ]
  },
  {
   "cell_type": "code",
   "execution_count": null,
   "id": "e1411863",
   "metadata": {},
   "outputs": [],
   "source": [
    "df = pd.read_csv('advertising.csv')\n",
    "df.head()"
   ]
  },
  {
   "cell_type": "markdown",
   "id": "90b46bdc",
   "metadata": {},
   "source": [
    "## 3. Explore the Data\n",
    "Display dataset information and summary statistics using DataFrame methods like info() and describe()."
   ]
  },
  {
   "cell_type": "code",
   "execution_count": null,
   "id": "8a034028",
   "metadata": {},
   "outputs": [],
   "source": [
    "df.info()\n",
    "df.describe()"
   ]
  },
  {
   "cell_type": "markdown",
   "id": "587185cc",
   "metadata": {},
   "source": [
    "## 4. Visualize Feature Relationships\n",
    "Use seaborn's pairplot to visualize the relationships between advertising channels (TV, Radio, Newspaper) and Sales."
   ]
  },
  {
   "cell_type": "code",
   "execution_count": null,
   "id": "2d261fa1",
   "metadata": {},
   "outputs": [],
   "source": [
    "sns.pairplot(df, x_vars=['TV', 'Radio', 'Newspaper'], y_vars='Sales', height=5, aspect=0.7, kind='reg')\n",
    "plt.show()"
   ]
  },
  {
   "cell_type": "markdown",
   "id": "068e29b2",
   "metadata": {},
   "source": [
    "## 5. Preprocess the Data\n",
    "Check for missing values or categorical variables and note that no preprocessing is needed for this dataset."
   ]
  },
  {
   "cell_type": "code",
   "execution_count": null,
   "id": "7caaff91",
   "metadata": {},
   "outputs": [],
   "source": [
    "# In this dataset, there are no missing values or categorical variables.\n",
    "pass"
   ]
  },
  {
   "cell_type": "markdown",
   "id": "bfcad29e",
   "metadata": {},
   "source": [
    "## 6. Split Data into Training and Test Sets\n",
    "Split the features and target variable into training and test sets using train_test_split."
   ]
  },
  {
   "cell_type": "code",
   "execution_count": null,
   "id": "e20cc954",
   "metadata": {},
   "outputs": [],
   "source": [
    "X = df[['TV', 'Radio', 'Newspaper']]\n",
    "y = df['Sales']\n",
    "X_train, X_test, y_train, y_test = train_test_split(X, y, test_size=0.2, random_state=42)"
   ]
  },
  {
   "cell_type": "markdown",
   "id": "c7006f7e",
   "metadata": {},
   "source": [
    "## 7. Build and Train the Linear Regression Model\n",
    "Create a LinearRegression model and fit it to the training data."
   ]
  },
  {
   "cell_type": "code",
   "execution_count": null,
   "id": "46404f48",
   "metadata": {},
   "outputs": [],
   "source": [
    "model = LinearRegression()\n",
    "model.fit(X_train, y_train)"
   ]
  },
  {
   "cell_type": "markdown",
   "id": "bbbbdfaf",
   "metadata": {},
   "source": [
    "## 8. Evaluate the Model\n",
    "Predict sales on the test set and calculate metrics such as RMSE and R^2 score."
   ]
  },
  {
   "cell_type": "code",
   "execution_count": null,
   "id": "0d03647f",
   "metadata": {},
   "outputs": [],
   "source": [
    "y_pred = model.predict(X_test)\n",
    "mse = mean_squared_error(y_test, y_pred)\n",
    "rmse = np.sqrt(mse)\n",
    "r2 = r2_score(y_test, y_pred)\n",
    "\n",
    "print(f\"Root Mean Squared Error: {rmse:.2f}\")\n",
    "print(f\"R^2 Score: {r2:.2f}\")"
   ]
  },
  {
   "cell_type": "markdown",
   "id": "49137e19",
   "metadata": {},
   "source": [
    "## 9. Visualize Actual vs Predicted Sales\n",
    "Create a scatter plot comparing actual and predicted sales values."
   ]
  },
  {
   "cell_type": "code",
   "execution_count": null,
   "id": "769d9bcd",
   "metadata": {},
   "outputs": [],
   "source": [
    "plt.figure(figsize=(8,6))\n",
    "plt.scatter(y_test, y_pred)\n",
    "plt.xlabel(\"Actual Sales\")\n",
    "plt.ylabel(\"Predicted Sales\")\n",
    "plt.title(\"Actual vs Predicted Sales\")\n",
    "plt.plot([y_test.min(), y_test.max()], [y_test.min(), y_test.max()], 'r--')\n",
    "plt.show()"
   ]
  },
  {
   "cell_type": "markdown",
   "id": "466a66bc",
   "metadata": {},
   "source": [
    "## 10. Show Model Coefficients\n",
    "Display the learned coefficients for each advertising channel in a DataFrame."
   ]
  },
  {
   "cell_type": "code",
   "execution_count": null,
   "id": "f4080cda",
   "metadata": {},
   "outputs": [],
   "source": [
    "coeff_df = pd.DataFrame(model.coef_, X.columns, columns=['Coefficient'])\n",
    "coeff_df"
   ]
  }
 ],
 "metadata": {
  "language_info": {
   "name": "python"
  }
 },
 "nbformat": 4,
 "nbformat_minor": 5
}
