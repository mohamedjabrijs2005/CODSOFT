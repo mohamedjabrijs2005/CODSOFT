{
 "cells": [
  {
   "cell_type": "markdown",
   "id": "ed2b4450",
   "metadata": {},
   "source": [
    "# Movie Rating Prediction\n",
    "\n",
    "This notebook demonstrates how to predict movie ratings using a machine learning pipeline with synthetic data. The model uses a Random Forest Regressor and includes preprocessing for both categorical and numerical features.\n",
    "\n",
    "---\n",
    "\n",
    "## Outline\n",
    "1. Import Required Libraries\n",
    "2. Generate Synthetic Movie Data\n",
    "3. Explore the Synthetic Dataset\n",
    "4. Preprocessing: Encode Categorical and Scale Numerical Features\n",
    "5. Split Data into Training and Test Sets\n",
    "6. Train Random Forest Regression Model\n",
    "7. Evaluate Model Performance\n",
    "8. Predict Rating for a New Movie"
   ]
  },
  {
   "cell_type": "markdown",
   "id": "e334ea24",
   "metadata": {},
   "source": [
    "## 1. Import Required Libraries\n",
    "Import pandas, numpy, and scikit-learn modules needed for data generation, preprocessing, modeling, and evaluation."
   ]
  },
  {
   "cell_type": "code",
   "execution_count": null,
   "id": "c993d326",
   "metadata": {},
   "outputs": [],
   "source": [
    "import pandas as pd\n",
    "import numpy as np\n",
    "from sklearn.model_selection import train_test_split\n",
    "from sklearn.preprocessing import OneHotEncoder, StandardScaler\n",
    "from sklearn.compose import ColumnTransformer\n",
    "from sklearn.pipeline import Pipeline\n",
    "from sklearn.ensemble import RandomForestRegressor\n",
    "from sklearn.metrics import mean_squared_error, r2_score"
   ]
  },
  {
   "cell_type": "markdown",
   "id": "e8d9fc7e",
   "metadata": {},
   "source": [
    "## 2. Generate Synthetic Movie Data\n",
    "Create a synthetic dataset with features such as genre, director, actor, budget, duration, and rating."
   ]
  },
  {
   "cell_type": "code",
   "execution_count": null,
   "id": "a5ff14cb",
   "metadata": {},
   "outputs": [],
   "source": [
    "# Set random seed for reproducibility\n",
    "np.random.seed(42)\n",
    "genres = ['Action', 'Comedy', 'Drama', 'Horror', 'Sci-Fi']\n",
    "directors = ['Spielberg', 'Nolan', 'Tarantino', 'Scorsese', 'Kubrick']\n",
    "actors = ['DiCaprio', 'Johansson', 'Pitt', 'Streep', 'Hanks']\n",
    "\n",
    "data = {\n",
    "    'genre': np.random.choice(genres, 200),\n",
    "    'director': np.random.choice(directors, 200),\n",
    "    'actor': np.random.choice(actors, 200),\n",
    "    'budget_million': np.random.uniform(10, 200, 200),\n",
    "    'duration_min': np.random.randint(80, 180, 200),\n",
    "    'rating': np.random.uniform(4, 9, 200)  # Simulated ratings\n",
    "}\n",
    "df = pd.DataFrame(data)"
   ]
  },
  {
   "cell_type": "markdown",
   "id": "c7815f4b",
   "metadata": {},
   "source": [
    "## 3. Explore the Synthetic Dataset\n",
    "Display the first few rows and basic statistics of the generated dataset."
   ]
  },
  {
   "cell_type": "code",
   "execution_count": null,
   "id": "803cd37f",
   "metadata": {},
   "outputs": [],
   "source": [
    "# Display the first 5 rows of the dataset\n",
    "df.head()"
   ]
  },
  {
   "cell_type": "code",
   "execution_count": null,
   "id": "7a082c57",
   "metadata": {},
   "outputs": [],
   "source": [
    "# Show basic statistics\n",
    "df.describe()"
   ]
  },
  {
   "cell_type": "markdown",
   "id": "51a0fb16",
   "metadata": {},
   "source": [
    "## 4. Preprocessing: Encode Categorical and Scale Numerical Features\n",
    "Build a preprocessing pipeline using OneHotEncoder for categorical features and StandardScaler for numerical features."
   ]
  },
  {
   "cell_type": "code",
   "execution_count": null,
   "id": "999e27fe",
   "metadata": {},
   "outputs": [],
   "source": [
    "categorical_features = ['genre', 'director', 'actor']\n",
    "numerical_features = ['budget_million', 'duration_min']\n",
    "\n",
    "preprocessor = ColumnTransformer([\n",
    "    ('cat', OneHotEncoder(), categorical_features),\n",
    "    ('num', StandardScaler(), numerical_features)\n",
    "])"
   ]
  },
  {
   "cell_type": "markdown",
   "id": "5cef4816",
   "metadata": {},
   "source": [
    "## 5. Split Data into Training and Test Sets\n",
    "Split the dataset into training and test sets using train_test_split."
   ]
  },
  {
   "cell_type": "code",
   "execution_count": null,
   "id": "a5b47945",
   "metadata": {},
   "outputs": [],
   "source": [
    "X = df.drop('rating', axis=1)\n",
    "y = df['rating']\n",
    "\n",
    "X_train, X_test, y_train, y_test = train_test_split(X, y, test_size=0.2, random_state=42)"
   ]
  },
  {
   "cell_type": "markdown",
   "id": "6f927f46",
   "metadata": {},
   "source": [
    "## 6. Train Random Forest Regression Model\n",
    "Fit a Random Forest Regressor to the training data using the preprocessing pipeline."
   ]
  },
  {
   "cell_type": "code",
   "execution_count": null,
   "id": "9d04e49d",
   "metadata": {},
   "outputs": [],
   "source": [
    "model = Pipeline([\n",
    "    ('pre', preprocessor),\n",
    "    ('reg', RandomForestRegressor(n_estimators=100, random_state=42))\n",
    "])\n",
    "\n",
    "model.fit(X_train, y_train)"
   ]
  },
  {
   "cell_type": "markdown",
   "id": "6b50dd22",
   "metadata": {},
   "source": [
    "## 7. Evaluate Model Performance\n",
    "Evaluate the model using Mean Squared Error and R2 Score on the test set."
   ]
  },
  {
   "cell_type": "code",
   "execution_count": null,
   "id": "1ed545cc",
   "metadata": {},
   "outputs": [],
   "source": [
    "y_pred = model.predict(X_test)\n",
    "print(\"Mean Squared Error:\", mean_squared_error(y_test, y_pred))\n",
    "print(\"R2 Score:\", r2_score(y_test, y_pred))"
   ]
  },
  {
   "cell_type": "markdown",
   "id": "8bb26ea7",
   "metadata": {},
   "source": [
    "## 8. Predict Rating for a New Movie\n",
    "Use the trained pipeline to predict the rating for a new, user-defined movie."
   ]
  },
  {
   "cell_type": "code",
   "execution_count": null,
   "id": "ab1fef97",
   "metadata": {},
   "outputs": [],
   "source": [
    "# Example: Predict the rating for a new movie\n",
    "new_movie = pd.DataFrame([{\n",
    "    'genre': 'Action',\n",
    "    'director': 'Nolan',\n",
    "    'actor': 'DiCaprio',\n",
    "    'budget_million': 150,\n",
    "    'duration_min': 130\n",
    "}])\n",
    "predicted_rating = model.predict(new_movie)\n",
    "print(\"Predicted rating for new movie:\", predicted_rating[0])"
   ]
  }
 ],
 "metadata": {
  "language_info": {
   "name": "python"
  }
 },
 "nbformat": 4,
 "nbformat_minor": 5
}
