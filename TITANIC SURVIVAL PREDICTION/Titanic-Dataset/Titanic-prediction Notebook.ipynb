{
 "cells": [
  {
   "cell_type": "markdown",
   "id": "ce51da3b",
   "metadata": {},
   "source": [
    "# Titanic Survival Prediction\n",
    "\n",
    "This notebook demonstrates how to predict survival on the Titanic using a Random Forest Classifier. We will load the dataset, clean and preprocess the data, encode categorical variables, select features, train a model, and evaluate its performance."
   ]
  },
  {
   "cell_type": "markdown",
   "id": "3c378442",
   "metadata": {},
   "source": [
    "## 1. Import Libraries and Load Dataset\n",
    "\n",
    "Import pandas, scikit-learn modules, and load the Titanic dataset from a CSV file."
   ]
  },
  {
   "cell_type": "code",
   "execution_count": null,
   "id": "b9d57ec2",
   "metadata": {},
   "outputs": [],
   "source": [
    "import pandas as pd\n",
    "from sklearn.model_selection import train_test_split\n",
    "from sklearn.ensemble import RandomForestClassifier\n",
    "from sklearn.metrics import accuracy_score, classification_report\n",
    "from sklearn.preprocessing import LabelEncoder\n",
    "\n",
    "# Load the dataset\n",
    "df = pd.read_csv('Titanic-Dataset.csv')\n",
    "df.head()"
   ]
  },
  {
   "cell_type": "markdown",
   "id": "1fe265cb",
   "metadata": {},
   "source": [
    "## 2. Data Cleaning and Preprocessing\n",
    "\n",
    "Fill missing values in 'Age' and 'Fare' with the median, and 'Embarked' with the mode."
   ]
  },
  {
   "cell_type": "code",
   "execution_count": null,
   "id": "a36e23a9",
   "metadata": {},
   "outputs": [],
   "source": [
    "# Fill missing Age values with median\n",
    "df['Age'].fillna(df['Age'].median(), inplace=True)\n",
    "# Fill missing Embarked with mode\n",
    "df['Embarked'].fillna(df['Embarked'].mode()[0], inplace=True)\n",
    "# Fill missing Fare with median\n",
    "if 'Fare' in df.columns:\n",
    "    df['Fare'].fillna(df['Fare'].median(), inplace=True)\n",
    "df.isnull().sum()"
   ]
  },
  {
   "cell_type": "markdown",
   "id": "0e00ee0e",
   "metadata": {},
   "source": [
    "## 3. Encode Categorical Variables\n",
    "\n",
    "Use LabelEncoder to convert 'Sex' and 'Embarked' columns to numeric values."
   ]
  },
  {
   "cell_type": "code",
   "execution_count": null,
   "id": "001834e4",
   "metadata": {},
   "outputs": [],
   "source": [
    "from sklearn.preprocessing import LabelEncoder\n",
    "\n",
    "label_encoders = {}\n",
    "for col in ['Sex', 'Embarked']:\n",
    "    le = LabelEncoder()\n",
    "    df[col] = le.fit_transform(df[col])\n",
    "    label_encoders[col] = le\n",
    "df[['Sex', 'Embarked']].head()"
   ]
  },
  {
   "cell_type": "markdown",
   "id": "1efb4171",
   "metadata": {},
   "source": [
    "## 4. Feature Selection\n",
    "\n",
    "Select relevant features for model training and define the target variable."
   ]
  },
  {
   "cell_type": "code",
   "execution_count": null,
   "id": "0bd629bc",
   "metadata": {},
   "outputs": [],
   "source": [
    "features = ['Pclass', 'Sex', 'Age', 'SibSp', 'Parch', 'Fare', 'Embarked']\n",
    "target = 'Survived'\n",
    "\n",
    "X = df[features]\n",
    "y = df[target]\n",
    "X.head()"
   ]
  },
  {
   "cell_type": "markdown",
   "id": "bc223e06",
   "metadata": {},
   "source": [
    "## 5. Split Data into Training and Test Sets\n",
    "\n",
    "Split the dataset into training and test sets using train_test_split."
   ]
  },
  {
   "cell_type": "code",
   "execution_count": null,
   "id": "4b62db2b",
   "metadata": {},
   "outputs": [],
   "source": [
    "from sklearn.model_selection import train_test_split\n",
    "\n",
    "X_train, X_test, y_train, y_test = train_test_split(X, y, test_size=0.2, random_state=42)\n",
    "print('Train shape:', X_train.shape)\n",
    "print('Test shape:', X_test.shape)"
   ]
  },
  {
   "cell_type": "markdown",
   "id": "1a0503bd",
   "metadata": {},
   "source": [
    "## 6. Train Random Forest Classifier\n",
    "\n",
    "Initialize and train a RandomForestClassifier on the training data."
   ]
  },
  {
   "cell_type": "code",
   "execution_count": null,
   "id": "5a361eb8",
   "metadata": {},
   "outputs": [],
   "source": [
    "from sklearn.ensemble import RandomForestClassifier\n",
    "\n",
    "model = RandomForestClassifier(n_estimators=100, random_state=42)\n",
    "model.fit(X_train, y_train)"
   ]
  },
  {
   "cell_type": "markdown",
   "id": "29c2117f",
   "metadata": {},
   "source": [
    "## 7. Model Evaluation\n",
    "\n",
    "Predict on the test set and evaluate the model using accuracy_score and classification_report."
   ]
  },
  {
   "cell_type": "code",
   "execution_count": null,
   "id": "40707646",
   "metadata": {},
   "outputs": [],
   "source": [
    "from sklearn.metrics import accuracy_score, classification_report\n",
    "\n",
    "y_pred = model.predict(X_test)\n",
    "print('Accuracy:', accuracy_score(y_test, y_pred))\n",
    "print(classification_report(y_test, y_pred))"
   ]
  }
 ],
 "metadata": {
  "language_info": {
   "name": "python"
  }
 },
 "nbformat": 4,
 "nbformat_minor": 5
}
